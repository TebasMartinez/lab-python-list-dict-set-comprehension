{
 "cells": [
  {
   "cell_type": "markdown",
   "id": "25d7736c-ba17-4aff-b6bb-66eba20fbf4e",
   "metadata": {},
   "source": [
    "# Lab | List, Dict and Set Comprehension"
   ]
  },
  {
   "cell_type": "markdown",
   "id": "7dd3cbde-675a-4b81-92c3-f728846dbe06",
   "metadata": {},
   "source": [
    "## Exercise: Managing Customer Orders Optimized with Comprehension"
   ]
  },
  {
   "cell_type": "markdown",
   "id": "5d500160-2fb7-4777-b5e4-09d45ebaf328",
   "metadata": {},
   "source": [
    "In the previous exercise, you developed a program to manage customer orders and inventory. Now, let's take it a step further and incorporate comprehension into your code.\n",
    "\n",
    "Follow the steps below to complete the exercise:\n",
    "\n",
    "1. Review your code from the previous exercise and identify areas where you can apply comprehension to simplify and streamline your code. \n",
    "\n",
    "    - *Hint: Apply it to initialize inventory, updating the inventory and printing the updated inventory.*\n",
    "    \n",
    "    - For example, in initializing the inventory, we could have:\n",
    "    \n",
    "        ```python\n",
    "        def initialize_inventory(products):\n",
    "            inventory = {product: int(input(f\"Enter the quantity of {product}s available: \")) for product in products}\n",
    "            return inventory\n",
    "\n",
    "        ```\n",
    "<br>\n",
    "    \n",
    "    \n",
    "2. Modify the function get_customer_orders so it prompts the user to enter the number of customer orders and gathers the product names using a loop and user input. Use comprehension.\n",
    "\n",
    "3. Add a new function to calculate the total price of the customer order. For each product in customer_orders, prompt the user to enter the price of that product. Use comprehension to calculate the total price. Note: assume that the user can only have 1 unit of each product.\n",
    "\n",
    "4. Modify the update_inventory function to remove the product from the inventory if its quantity becomes zero after fulfilling the customer orders. Use comprehension to filter out the products with a quantity of zero from the inventory.\n",
    "\n",
    "5. Print the total price of the customer order.\n",
    "\n",
    "Your code should produce output similar to the following:\n",
    "\n",
    "```python\n",
    "Enter the quantity of t-shirts available:  5\n",
    "Enter the quantity of mugs available:  4\n",
    "Enter the quantity of hats available:  3\n",
    "Enter the quantity of books available:  2\n",
    "Enter the quantity of keychains available:  1\n",
    "Enter the number of customer orders:  2\n",
    "Enter the name of a product that a customer wants to order:  hat\n",
    "Enter the name of a product that a customer wants to order:  keychain\n",
    "\n",
    "Order Statistics:\n",
    "Total Products Ordered: 2\n",
    "Percentage of Unique Products Ordered: 40.0\n",
    "\n",
    "Updated Inventory:\n",
    "t-shirt: 5\n",
    "mug: 4\n",
    "hat: 2\n",
    "book: 2\n",
    "Enter the price of keychain:  5\n",
    "Enter the price of hat:  10\n",
    "Total Price: 15.0\n",
    "\n",
    "```\n"
   ]
  },
  {
   "cell_type": "markdown",
   "id": "bd0fb61c-adab-4df1-8e5c-3c77245ebc1d",
   "metadata": {},
   "source": [
    "### Defining the functions"
   ]
  },
  {
   "cell_type": "code",
   "execution_count": 3,
   "id": "af6b5f83",
   "metadata": {},
   "outputs": [],
   "source": [
    "# Updated code, exercise 1\n",
    "def initialize_inventory(products):\n",
    "    inventory = {product:int(input(f\"Please provide number of {product} available: \")) for product in products}\n",
    "    return inventory"
   ]
  },
  {
   "cell_type": "code",
   "execution_count": 30,
   "id": "273b1833",
   "metadata": {},
   "outputs": [],
   "source": [
    "# Updated code, exercise 2\n",
    "def get_customer_orders():\n",
    "    qty = int((input(\"Enter the number of customer orders: \")))\n",
    "    customer_orders = {input(\"Enter the name of a product that a customer wants to order:\") for i in range(qty)}\n",
    "    return customer_orders"
   ]
  },
  {
   "cell_type": "code",
   "execution_count": 51,
   "id": "719de316",
   "metadata": {},
   "outputs": [],
   "source": [
    "# Updated code\n",
    "def update_inventory(customer_orders, inventory):\n",
    "    # exercise 1\n",
    "    updated_inventory = {product:int(inventory[product])-1 if product in customer_orders else int(inventory[product]) for product in inventory}\n",
    "    \n",
    "    # exercise 4\n",
    "    updated_inventory = {product:updated_inventory[product] for product in updated_inventory if int(updated_inventory[product]) > 0}\n",
    "    return updated_inventory"
   ]
  },
  {
   "cell_type": "code",
   "execution_count": 15,
   "id": "fa081235",
   "metadata": {},
   "outputs": [],
   "source": [
    "# Not updated, code from previous lab\n",
    "def calculate_order_statistics(customer_orders, products):\n",
    "    total_products_ordered = len(customer_orders)\n",
    "    perc = (total_products_ordered / len(products)) * 100\n",
    "    order_statistics = [total_products_ordered, int(perc)]\n",
    "    return order_statistics"
   ]
  },
  {
   "cell_type": "code",
   "execution_count": 37,
   "id": "1a9769be",
   "metadata": {},
   "outputs": [],
   "source": [
    "# Not updated, code from previous lab\n",
    "def print_order_statistics(order_statistics):\n",
    "    print(f\"The total number of products ordered is {order_statistics[0]}, and the percentage of unique products ordered is {order_statistics[1]}%\")"
   ]
  },
  {
   "cell_type": "code",
   "execution_count": 38,
   "id": "091ac566",
   "metadata": {},
   "outputs": [],
   "source": [
    "# Not updated, code from previous lab\n",
    "def print_updated_inventory(inventory):\n",
    "    print(f\"The updated inventory is: {inventory}\")"
   ]
  },
  {
   "cell_type": "code",
   "execution_count": 39,
   "id": "06fa10cb-fdba-4603-a625-9ead0ebfc3a6",
   "metadata": {},
   "outputs": [],
   "source": [
    "# New code, exercise 3\n",
    "def total_price(customer_order):\n",
    "    return sum([int(input(f\"Enter the price of {product}\")) for product in customer_order])"
   ]
  },
  {
   "cell_type": "markdown",
   "id": "1acdb782-4f34-40f3-b463-256cfeb6c937",
   "metadata": {},
   "source": [
    "### Calling the functions"
   ]
  },
  {
   "cell_type": "code",
   "execution_count": 22,
   "id": "eba1f6f0",
   "metadata": {},
   "outputs": [],
   "source": [
    "products = [\"t-shirt\", \"mug\", \"hat\", \"book\", \"keychain\"]"
   ]
  },
  {
   "cell_type": "code",
   "execution_count": 52,
   "id": "886c3cb8",
   "metadata": {},
   "outputs": [
    {
     "name": "stdin",
     "output_type": "stream",
     "text": [
      "Please provide number of t-shirt available:  1\n",
      "Please provide number of mug available:  2\n",
      "Please provide number of hat available:  3\n",
      "Please provide number of book available:  4\n",
      "Please provide number of keychain available:  5\n"
     ]
    }
   ],
   "source": [
    "inventory = initialize_inventory(products)"
   ]
  },
  {
   "cell_type": "code",
   "execution_count": 53,
   "id": "18453c46",
   "metadata": {},
   "outputs": [
    {
     "name": "stdin",
     "output_type": "stream",
     "text": [
      "Enter the number of customer orders:  3\n",
      "Enter the name of a product that a customer wants to order: hat\n",
      "Enter the name of a product that a customer wants to order: t-shirt\n",
      "Enter the name of a product that a customer wants to order: book\n"
     ]
    }
   ],
   "source": [
    "customer_orders = get_customer_orders()"
   ]
  },
  {
   "cell_type": "code",
   "execution_count": 54,
   "id": "bf1ebc6b",
   "metadata": {},
   "outputs": [],
   "source": [
    "inventory = update_inventory(customer_orders, inventory)"
   ]
  },
  {
   "cell_type": "code",
   "execution_count": 55,
   "id": "9b33f19d",
   "metadata": {},
   "outputs": [],
   "source": [
    "order_statistics = calculate_order_statistics(customer_orders, products)"
   ]
  },
  {
   "cell_type": "code",
   "execution_count": 56,
   "id": "810a9a6a",
   "metadata": {},
   "outputs": [
    {
     "name": "stdout",
     "output_type": "stream",
     "text": [
      "The total number of products ordered is 3, and the percentage of unique products ordered is 60%\n"
     ]
    }
   ],
   "source": [
    "print_order_statistics(order_statistics)"
   ]
  },
  {
   "cell_type": "code",
   "execution_count": 57,
   "id": "0f513737",
   "metadata": {},
   "outputs": [
    {
     "name": "stdout",
     "output_type": "stream",
     "text": [
      "The updated inventory is: {'mug': 2, 'hat': 2, 'book': 3, 'keychain': 5}\n"
     ]
    }
   ],
   "source": [
    "print_updated_inventory(inventory)"
   ]
  },
  {
   "cell_type": "code",
   "execution_count": 58,
   "id": "eff4ef44-a1a6-48dc-a28c-337c72923638",
   "metadata": {},
   "outputs": [
    {
     "name": "stdin",
     "output_type": "stream",
     "text": [
      "Enter the price of book 2\n",
      "Enter the price of t-shirt 3\n",
      "Enter the price of hat 4\n"
     ]
    },
    {
     "data": {
      "text/plain": [
       "9"
      ]
     },
     "execution_count": 58,
     "metadata": {},
     "output_type": "execute_result"
    }
   ],
   "source": [
    "# 5\n",
    "total_price(customer_orders)"
   ]
  }
 ],
 "metadata": {
  "kernelspec": {
   "display_name": "Python [conda env:base] *",
   "language": "python",
   "name": "conda-base-py"
  },
  "language_info": {
   "codemirror_mode": {
    "name": "ipython",
    "version": 3
   },
   "file_extension": ".py",
   "mimetype": "text/x-python",
   "name": "python",
   "nbconvert_exporter": "python",
   "pygments_lexer": "ipython3",
   "version": "3.12.7"
  }
 },
 "nbformat": 4,
 "nbformat_minor": 5
}
